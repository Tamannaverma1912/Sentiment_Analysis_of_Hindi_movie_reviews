{
  "nbformat": 4,
  "nbformat_minor": 0,
  "metadata": {
    "colab": {
      "name": "TestingData.ipynb",
      "provenance": [],
      "collapsed_sections": [],
      "toc_visible": true,
      "authorship_tag": "ABX9TyP0RdaxwLkb3WZFG7mZ/TqD",
      "include_colab_link": true
    },
    "kernelspec": {
      "name": "python3",
      "display_name": "Python 3"
    }
  },
  "cells": [
    {
      "cell_type": "markdown",
      "metadata": {
        "id": "view-in-github",
        "colab_type": "text"
      },
      "source": [
        "<a href=\"https://colab.research.google.com/github/pikachu28/Sentiment_Analysis_of_movie_review/blob/master/TestingData.ipynb\" target=\"_parent\"><img src=\"https://colab.research.google.com/assets/colab-badge.svg\" alt=\"Open In Colab\"/></a>"
      ]
    },
    {
      "cell_type": "code",
      "metadata": {
        "id": "bk3ymFKs-WkL",
        "colab_type": "code",
        "colab": {}
      },
      "source": [
        "import pandas as pd"
      ],
      "execution_count": null,
      "outputs": []
    },
    {
      "cell_type": "markdown",
      "metadata": {
        "id": "kRE62aU__5lF",
        "colab_type": "text"
      },
      "source": [
        "##**Testing Data**\n",
        "LINK Of neg_reveiws--> https://github.com/shubham721/Sentiment-Analysis-On-Hindi-Reviews/blob/master/neg_hindi.txt\n",
        "\n",
        "LINK Of pos_reviews-->https://github.com/shubham721/Sentiment-Analysis-On-Hindi-Reviews/blob/master/pos_hindi.txt"
      ]
    },
    {
      "cell_type": "markdown",
      "metadata": {
        "id": "OuL4FcNW_BMC",
        "colab_type": "text"
      },
      "source": [
        "##Loading Datasets"
      ]
    },
    {
      "cell_type": "code",
      "metadata": {
        "id": "jyAV86El-ak-",
        "colab_type": "code",
        "colab": {
          "base_uri": "https://localhost:8080/",
          "height": 54
        },
        "outputId": "af738194-4e79-47c8-bb94-4ae098ab06cd"
      },
      "source": [
        "#Dataset  for positive hindi reviews\n",
        "df_pos = pd.read_csv('/content/sample_data/pos_hindi.txt',header=None,error_bad_lines=False)"
      ],
      "execution_count": null,
      "outputs": [
        {
          "output_type": "stream",
          "text": [
            "b'Skipping line 3: expected 1 fields, saw 4\\nSkipping line 6: expected 1 fields, saw 2\\nSkipping line 21: expected 1 fields, saw 4\\nSkipping line 24: expected 1 fields, saw 2\\nSkipping line 48: expected 1 fields, saw 2\\nSkipping line 55: expected 1 fields, saw 3\\nSkipping line 58: expected 1 fields, saw 2\\nSkipping line 69: expected 1 fields, saw 2\\nSkipping line 75: expected 1 fields, saw 2\\nSkipping line 77: expected 1 fields, saw 4\\nSkipping line 78: expected 1 fields, saw 2\\nSkipping line 93: expected 1 fields, saw 2\\nSkipping line 94: expected 1 fields, saw 2\\nSkipping line 95: expected 1 fields, saw 2\\nSkipping line 97: expected 1 fields, saw 2\\nSkipping line 104: expected 1 fields, saw 2\\nSkipping line 115: expected 1 fields, saw 2\\nSkipping line 116: expected 1 fields, saw 2\\nSkipping line 121: expected 1 fields, saw 2\\nSkipping line 136: expected 1 fields, saw 2\\nSkipping line 137: expected 1 fields, saw 2\\nSkipping line 157: expected 1 fields, saw 3\\nSkipping line 175: expected 1 fields, saw 3\\nSkipping line 200: expected 1 fields, saw 2\\nSkipping line 203: expected 1 fields, saw 2\\nSkipping line 212: expected 1 fields, saw 3\\nSkipping line 221: expected 1 fields, saw 2\\nSkipping line 229: expected 1 fields, saw 2\\nSkipping line 237: expected 1 fields, saw 2\\nSkipping line 243: expected 1 fields, saw 3\\nSkipping line 257: expected 1 fields, saw 2\\nSkipping line 258: expected 1 fields, saw 2\\nSkipping line 260: expected 1 fields, saw 2\\nSkipping line 274: expected 1 fields, saw 3\\nSkipping line 277: expected 1 fields, saw 2\\nSkipping line 283: expected 1 fields, saw 2\\nSkipping line 320: expected 1 fields, saw 2\\nSkipping line 321: expected 1 fields, saw 2\\nSkipping line 323: expected 1 fields, saw 2\\nSkipping line 339: expected 1 fields, saw 2\\nSkipping line 351: expected 1 fields, saw 2\\nSkipping line 353: expected 1 fields, saw 2\\nSkipping line 356: expected 1 fields, saw 2\\nSkipping line 360: expected 1 fields, saw 2\\nSkipping line 368: expected 1 fields, saw 2\\nSkipping line 374: expected 1 fields, saw 2\\nSkipping line 391: expected 1 fields, saw 2\\nSkipping line 394: expected 1 fields, saw 2\\nSkipping line 400: expected 1 fields, saw 3\\nSkipping line 401: expected 1 fields, saw 2\\nSkipping line 407: expected 1 fields, saw 2\\nSkipping line 410: expected 1 fields, saw 3\\nSkipping line 421: expected 1 fields, saw 2\\nSkipping line 434: expected 1 fields, saw 2\\nSkipping line 451: expected 1 fields, saw 2\\nSkipping line 457: expected 1 fields, saw 2\\nSkipping line 461: expected 1 fields, saw 2\\nSkipping line 476: expected 1 fields, saw 2\\nSkipping line 483: expected 1 fields, saw 2\\nSkipping line 516: expected 1 fields, saw 2\\nSkipping line 525: expected 1 fields, saw 2\\nSkipping line 532: expected 1 fields, saw 2\\nSkipping line 558: expected 1 fields, saw 2\\nSkipping line 564: expected 1 fields, saw 2\\nSkipping line 573: expected 1 fields, saw 3\\nSkipping line 574: expected 1 fields, saw 2\\nSkipping line 578: expected 1 fields, saw 2\\nSkipping line 580: expected 1 fields, saw 2\\nSkipping line 581: expected 1 fields, saw 2\\nSkipping line 586: expected 1 fields, saw 2\\nSkipping line 587: expected 1 fields, saw 2\\nSkipping line 598: expected 1 fields, saw 2\\n'\n"
          ],
          "name": "stderr"
        }
      ]
    },
    {
      "cell_type": "code",
      "metadata": {
        "id": "kHo-Vurc-an5",
        "colab_type": "code",
        "colab": {
          "base_uri": "https://localhost:8080/",
          "height": 54
        },
        "outputId": "53daa7a6-2234-4089-b4d1-52ad22ad1912"
      },
      "source": [
        "#Dataset  for negative hindi reviews\n",
        "df_neg = pd.read_csv('/content/sample_data/neg_hindi.txt',header=None, error_bad_lines=False)"
      ],
      "execution_count": null,
      "outputs": [
        {
          "output_type": "stream",
          "text": [
            "b'Skipping line 5: expected 1 fields, saw 2\\nSkipping line 7: expected 1 fields, saw 2\\nSkipping line 9: expected 1 fields, saw 4\\nSkipping line 16: expected 1 fields, saw 2\\nSkipping line 27: expected 1 fields, saw 2\\nSkipping line 29: expected 1 fields, saw 2\\nSkipping line 30: expected 1 fields, saw 2\\nSkipping line 37: expected 1 fields, saw 2\\nSkipping line 40: expected 1 fields, saw 2\\nSkipping line 42: expected 1 fields, saw 2\\nSkipping line 46: expected 1 fields, saw 2\\nSkipping line 48: expected 1 fields, saw 2\\nSkipping line 49: expected 1 fields, saw 2\\nSkipping line 56: expected 1 fields, saw 4\\nSkipping line 61: expected 1 fields, saw 2\\nSkipping line 68: expected 1 fields, saw 3\\nSkipping line 71: expected 1 fields, saw 2\\nSkipping line 73: expected 1 fields, saw 2\\nSkipping line 96: expected 1 fields, saw 2\\nSkipping line 104: expected 1 fields, saw 2\\nSkipping line 106: expected 1 fields, saw 2\\nSkipping line 110: expected 1 fields, saw 2\\nSkipping line 115: expected 1 fields, saw 2\\nSkipping line 125: expected 1 fields, saw 2\\nSkipping line 126: expected 1 fields, saw 2\\nSkipping line 128: expected 1 fields, saw 2\\nSkipping line 151: expected 1 fields, saw 2\\nSkipping line 155: expected 1 fields, saw 2\\nSkipping line 161: expected 1 fields, saw 2\\nSkipping line 168: expected 1 fields, saw 2\\nSkipping line 175: expected 1 fields, saw 2\\nSkipping line 176: expected 1 fields, saw 3\\nSkipping line 177: expected 1 fields, saw 2\\nSkipping line 184: expected 1 fields, saw 2\\nSkipping line 190: expected 1 fields, saw 2\\nSkipping line 196: expected 1 fields, saw 2\\nSkipping line 197: expected 1 fields, saw 2\\nSkipping line 212: expected 1 fields, saw 2\\nSkipping line 219: expected 1 fields, saw 2\\nSkipping line 238: expected 1 fields, saw 2\\nSkipping line 246: expected 1 fields, saw 2\\nSkipping line 247: expected 1 fields, saw 2\\nSkipping line 254: expected 1 fields, saw 2\\nSkipping line 261: expected 1 fields, saw 2\\nSkipping line 286: expected 1 fields, saw 2\\nSkipping line 293: expected 1 fields, saw 2\\nSkipping line 308: expected 1 fields, saw 2\\nSkipping line 309: expected 1 fields, saw 2\\nSkipping line 315: expected 1 fields, saw 2\\nSkipping line 316: expected 1 fields, saw 2\\nSkipping line 320: expected 1 fields, saw 2\\nSkipping line 328: expected 1 fields, saw 2\\nSkipping line 348: expected 1 fields, saw 2\\nSkipping line 358: expected 1 fields, saw 2\\nSkipping line 361: expected 1 fields, saw 2\\nSkipping line 373: expected 1 fields, saw 2\\nSkipping line 374: expected 1 fields, saw 3\\nSkipping line 376: expected 1 fields, saw 6\\nSkipping line 381: expected 1 fields, saw 2\\nSkipping line 383: expected 1 fields, saw 5\\nSkipping line 386: expected 1 fields, saw 2\\nSkipping line 392: expected 1 fields, saw 5\\nSkipping line 403: expected 1 fields, saw 3\\nSkipping line 408: expected 1 fields, saw 3\\nSkipping line 413: expected 1 fields, saw 2\\nSkipping line 415: expected 1 fields, saw 3\\nSkipping line 419: expected 1 fields, saw 2\\nSkipping line 423: expected 1 fields, saw 2\\nSkipping line 425: expected 1 fields, saw 2\\nSkipping line 427: expected 1 fields, saw 2\\nSkipping line 429: expected 1 fields, saw 3\\nSkipping line 433: expected 1 fields, saw 2\\nSkipping line 436: expected 1 fields, saw 4\\nSkipping line 439: expected 1 fields, saw 2\\nSkipping line 446: expected 1 fields, saw 4\\nSkipping line 450: expected 1 fields, saw 2\\nSkipping line 455: expected 1 fields, saw 2\\nSkipping line 463: expected 1 fields, saw 5\\nSkipping line 467: expected 1 fields, saw 2\\nSkipping line 472: expected 1 fields, saw 2\\nSkipping line 477: expected 1 fields, saw 3\\nSkipping line 481: expected 1 fields, saw 3\\nSkipping line 482: expected 1 fields, saw 2\\nSkipping line 486: expected 1 fields, saw 3\\nSkipping line 490: expected 1 fields, saw 2\\nSkipping line 492: expected 1 fields, saw 3\\nSkipping line 497: expected 1 fields, saw 3\\nSkipping line 499: expected 1 fields, saw 2\\nSkipping line 502: expected 1 fields, saw 3\\nSkipping line 504: expected 1 fields, saw 2\\nSkipping line 508: expected 1 fields, saw 5\\nSkipping line 511: expected 1 fields, saw 2\\nSkipping line 513: expected 1 fields, saw 2\\nSkipping line 519: expected 1 fields, saw 2\\nSkipping line 523: expected 1 fields, saw 4\\nSkipping line 525: expected 1 fields, saw 2\\nSkipping line 532: expected 1 fields, saw 5\\nSkipping line 537: expected 1 fields, saw 3\\nSkipping line 540: expected 1 fields, saw 4\\nSkipping line 544: expected 1 fields, saw 2\\nSkipping line 547: expected 1 fields, saw 7\\nSkipping line 564: expected 1 fields, saw 3\\nSkipping line 566: expected 1 fields, saw 2\\nSkipping line 572: expected 1 fields, saw 2\\nSkipping line 576: expected 1 fields, saw 2\\nSkipping line 580: expected 1 fields, saw 2\\nSkipping line 584: expected 1 fields, saw 2\\n'\n"
          ],
          "name": "stderr"
        }
      ]
    },
    {
      "cell_type": "markdown",
      "metadata": {
        "id": "7rH_tDOh_VPv",
        "colab_type": "text"
      },
      "source": [
        "##Data Preprocessing"
      ]
    },
    {
      "cell_type": "code",
      "metadata": {
        "id": "1KOZDpIo-aqt",
        "colab_type": "code",
        "colab": {
          "base_uri": "https://localhost:8080/",
          "height": 204
        },
        "outputId": "fa6c87ea-0fd9-4b31-8ca4-e099abed75b9"
      },
      "source": [
        "df_neg.head()"
      ],
      "execution_count": null,
      "outputs": [
        {
          "output_type": "execute_result",
          "data": {
            "text/html": [
              "<div>\n",
              "<style scoped>\n",
              "    .dataframe tbody tr th:only-of-type {\n",
              "        vertical-align: middle;\n",
              "    }\n",
              "\n",
              "    .dataframe tbody tr th {\n",
              "        vertical-align: top;\n",
              "    }\n",
              "\n",
              "    .dataframe thead th {\n",
              "        text-align: right;\n",
              "    }\n",
              "</style>\n",
              "<table border=\"1\" class=\"dataframe\">\n",
              "  <thead>\n",
              "    <tr style=\"text-align: right;\">\n",
              "      <th></th>\n",
              "      <th>0</th>\n",
              "    </tr>\n",
              "  </thead>\n",
              "  <tbody>\n",
              "    <tr>\n",
              "      <th>0</th>\n",
              "      <td>फिल्म देखने के बाद न सिर्फ उम्मीदें धराशायी हु...</td>\n",
              "    </tr>\n",
              "    <tr>\n",
              "      <th>1</th>\n",
              "      <td>$उनके अभिनय में इंटेसिंटी तो है लेकिन किरदार स...</td>\n",
              "    </tr>\n",
              "    <tr>\n",
              "      <th>2</th>\n",
              "      <td>$एली अबराम को फिल्म में महज ग्लैमर ऐड करने के ...</td>\n",
              "    </tr>\n",
              "    <tr>\n",
              "      <th>3</th>\n",
              "      <td>$ बाकी के भी किरदार अति सामान्य हैं</td>\n",
              "    </tr>\n",
              "    <tr>\n",
              "      <th>4</th>\n",
              "      <td>$ तकनीकी गुणवत्ता की भी कमियां दिख सकती हैं</td>\n",
              "    </tr>\n",
              "  </tbody>\n",
              "</table>\n",
              "</div>"
            ],
            "text/plain": [
              "                                                   0\n",
              "0  फिल्म देखने के बाद न सिर्फ उम्मीदें धराशायी हु...\n",
              "1  $उनके अभिनय में इंटेसिंटी तो है लेकिन किरदार स...\n",
              "2  $एली अबराम को फिल्म में महज ग्लैमर ऐड करने के ...\n",
              "3                $ बाकी के भी किरदार अति सामान्य हैं\n",
              "4        $ तकनीकी गुणवत्ता की भी कमियां दिख सकती हैं"
            ]
          },
          "metadata": {
            "tags": []
          },
          "execution_count": 4
        }
      ]
    },
    {
      "cell_type": "code",
      "metadata": {
        "id": "gEGZ5R4U-atI",
        "colab_type": "code",
        "colab": {}
      },
      "source": [
        "df_neg.rename(columns={0:'Text'}, inplace=True)\n",
        "df_pos.rename(columns={0:'Text'}, inplace=True)"
      ],
      "execution_count": null,
      "outputs": []
    },
    {
      "cell_type": "code",
      "metadata": {
        "id": "RJJj3WbM-avq",
        "colab_type": "code",
        "colab": {
          "base_uri": "https://localhost:8080/",
          "height": 204
        },
        "outputId": "9e3c7684-8914-461e-c789-3a18ce583652"
      },
      "source": [
        "df_neg.head()"
      ],
      "execution_count": null,
      "outputs": [
        {
          "output_type": "execute_result",
          "data": {
            "text/html": [
              "<div>\n",
              "<style scoped>\n",
              "    .dataframe tbody tr th:only-of-type {\n",
              "        vertical-align: middle;\n",
              "    }\n",
              "\n",
              "    .dataframe tbody tr th {\n",
              "        vertical-align: top;\n",
              "    }\n",
              "\n",
              "    .dataframe thead th {\n",
              "        text-align: right;\n",
              "    }\n",
              "</style>\n",
              "<table border=\"1\" class=\"dataframe\">\n",
              "  <thead>\n",
              "    <tr style=\"text-align: right;\">\n",
              "      <th></th>\n",
              "      <th>Text</th>\n",
              "    </tr>\n",
              "  </thead>\n",
              "  <tbody>\n",
              "    <tr>\n",
              "      <th>0</th>\n",
              "      <td>फिल्म देखने के बाद न सिर्फ उम्मीदें धराशायी हु...</td>\n",
              "    </tr>\n",
              "    <tr>\n",
              "      <th>1</th>\n",
              "      <td>$उनके अभिनय में इंटेसिंटी तो है लेकिन किरदार स...</td>\n",
              "    </tr>\n",
              "    <tr>\n",
              "      <th>2</th>\n",
              "      <td>$एली अबराम को फिल्म में महज ग्लैमर ऐड करने के ...</td>\n",
              "    </tr>\n",
              "    <tr>\n",
              "      <th>3</th>\n",
              "      <td>$ बाकी के भी किरदार अति सामान्य हैं</td>\n",
              "    </tr>\n",
              "    <tr>\n",
              "      <th>4</th>\n",
              "      <td>$ तकनीकी गुणवत्ता की भी कमियां दिख सकती हैं</td>\n",
              "    </tr>\n",
              "  </tbody>\n",
              "</table>\n",
              "</div>"
            ],
            "text/plain": [
              "                                                Text\n",
              "0  फिल्म देखने के बाद न सिर्फ उम्मीदें धराशायी हु...\n",
              "1  $उनके अभिनय में इंटेसिंटी तो है लेकिन किरदार स...\n",
              "2  $एली अबराम को फिल्म में महज ग्लैमर ऐड करने के ...\n",
              "3                $ बाकी के भी किरदार अति सामान्य हैं\n",
              "4        $ तकनीकी गुणवत्ता की भी कमियां दिख सकती हैं"
            ]
          },
          "metadata": {
            "tags": []
          },
          "execution_count": 6
        }
      ]
    },
    {
      "cell_type": "code",
      "metadata": {
        "id": "s17up01H-ayn",
        "colab_type": "code",
        "colab": {
          "base_uri": "https://localhost:8080/",
          "height": 204
        },
        "outputId": "c92e7b9d-6285-440a-f301-4528bb950b9c"
      },
      "source": [
        "df_pos.head()"
      ],
      "execution_count": null,
      "outputs": [
        {
          "output_type": "execute_result",
          "data": {
            "text/html": [
              "<div>\n",
              "<style scoped>\n",
              "    .dataframe tbody tr th:only-of-type {\n",
              "        vertical-align: middle;\n",
              "    }\n",
              "\n",
              "    .dataframe tbody tr th {\n",
              "        vertical-align: top;\n",
              "    }\n",
              "\n",
              "    .dataframe thead th {\n",
              "        text-align: right;\n",
              "    }\n",
              "</style>\n",
              "<table border=\"1\" class=\"dataframe\">\n",
              "  <thead>\n",
              "    <tr style=\"text-align: right;\">\n",
              "      <th></th>\n",
              "      <th>Text</th>\n",
              "    </tr>\n",
              "  </thead>\n",
              "  <tbody>\n",
              "    <tr>\n",
              "      <th>0</th>\n",
              "      <td>मिकी वाइरस पूरी तरह से मनीष पॉल की फिल्म है और...</td>\n",
              "    </tr>\n",
              "    <tr>\n",
              "      <th>1</th>\n",
              "      <td>$मनीष ने अपने किरकार को बखूबी निभाया है</td>\n",
              "    </tr>\n",
              "    <tr>\n",
              "      <th>2</th>\n",
              "      <td>$वे हर भाव के दृश्यों में नैचुरल लगते हैं</td>\n",
              "    </tr>\n",
              "    <tr>\n",
              "      <th>3</th>\n",
              "      <td>$फिल्म की कास्टिंग जबरदस्त है</td>\n",
              "    </tr>\n",
              "    <tr>\n",
              "      <th>4</th>\n",
              "      <td>$ फिल्म के कोर्ट रूम सीन रियल हैं</td>\n",
              "    </tr>\n",
              "  </tbody>\n",
              "</table>\n",
              "</div>"
            ],
            "text/plain": [
              "                                                Text\n",
              "0  मिकी वाइरस पूरी तरह से मनीष पॉल की फिल्म है और...\n",
              "1            $मनीष ने अपने किरकार को बखूबी निभाया है\n",
              "2          $वे हर भाव के दृश्यों में नैचुरल लगते हैं\n",
              "3                      $फिल्म की कास्टिंग जबरदस्त है\n",
              "4                  $ फिल्म के कोर्ट रूम सीन रियल हैं"
            ]
          },
          "metadata": {
            "tags": []
          },
          "execution_count": 7
        }
      ]
    },
    {
      "cell_type": "code",
      "metadata": {
        "id": "tq5-lTMo-a1U",
        "colab_type": "code",
        "colab": {}
      },
      "source": [
        "df_neg['sentiment'] = 'negative'\n",
        "df_pos['sentiment'] = 'postive'"
      ],
      "execution_count": null,
      "outputs": []
    },
    {
      "cell_type": "code",
      "metadata": {
        "id": "DDNn4Bnx-a4f",
        "colab_type": "code",
        "colab": {
          "base_uri": "https://localhost:8080/",
          "height": 204
        },
        "outputId": "59f902aa-b056-48b1-aa09-a5260438e93d"
      },
      "source": [
        "df_pos.head()"
      ],
      "execution_count": null,
      "outputs": [
        {
          "output_type": "execute_result",
          "data": {
            "text/html": [
              "<div>\n",
              "<style scoped>\n",
              "    .dataframe tbody tr th:only-of-type {\n",
              "        vertical-align: middle;\n",
              "    }\n",
              "\n",
              "    .dataframe tbody tr th {\n",
              "        vertical-align: top;\n",
              "    }\n",
              "\n",
              "    .dataframe thead th {\n",
              "        text-align: right;\n",
              "    }\n",
              "</style>\n",
              "<table border=\"1\" class=\"dataframe\">\n",
              "  <thead>\n",
              "    <tr style=\"text-align: right;\">\n",
              "      <th></th>\n",
              "      <th>Text</th>\n",
              "      <th>sentiment</th>\n",
              "    </tr>\n",
              "  </thead>\n",
              "  <tbody>\n",
              "    <tr>\n",
              "      <th>0</th>\n",
              "      <td>मिकी वाइरस पूरी तरह से मनीष पॉल की फिल्म है और...</td>\n",
              "      <td>postive</td>\n",
              "    </tr>\n",
              "    <tr>\n",
              "      <th>1</th>\n",
              "      <td>$मनीष ने अपने किरकार को बखूबी निभाया है</td>\n",
              "      <td>postive</td>\n",
              "    </tr>\n",
              "    <tr>\n",
              "      <th>2</th>\n",
              "      <td>$वे हर भाव के दृश्यों में नैचुरल लगते हैं</td>\n",
              "      <td>postive</td>\n",
              "    </tr>\n",
              "    <tr>\n",
              "      <th>3</th>\n",
              "      <td>$फिल्म की कास्टिंग जबरदस्त है</td>\n",
              "      <td>postive</td>\n",
              "    </tr>\n",
              "    <tr>\n",
              "      <th>4</th>\n",
              "      <td>$ फिल्म के कोर्ट रूम सीन रियल हैं</td>\n",
              "      <td>postive</td>\n",
              "    </tr>\n",
              "  </tbody>\n",
              "</table>\n",
              "</div>"
            ],
            "text/plain": [
              "                                                Text sentiment\n",
              "0  मिकी वाइरस पूरी तरह से मनीष पॉल की फिल्म है और...   postive\n",
              "1            $मनीष ने अपने किरकार को बखूबी निभाया है   postive\n",
              "2          $वे हर भाव के दृश्यों में नैचुरल लगते हैं   postive\n",
              "3                      $फिल्म की कास्टिंग जबरदस्त है   postive\n",
              "4                  $ फिल्म के कोर्ट रूम सीन रियल हैं   postive"
            ]
          },
          "metadata": {
            "tags": []
          },
          "execution_count": 9
        }
      ]
    },
    {
      "cell_type": "code",
      "metadata": {
        "id": "3kXcqCpK-a7W",
        "colab_type": "code",
        "colab": {
          "base_uri": "https://localhost:8080/",
          "height": 204
        },
        "outputId": "07ad7458-9a00-416d-fb77-31abd7acdd50"
      },
      "source": [
        "df_neg.head()"
      ],
      "execution_count": null,
      "outputs": [
        {
          "output_type": "execute_result",
          "data": {
            "text/html": [
              "<div>\n",
              "<style scoped>\n",
              "    .dataframe tbody tr th:only-of-type {\n",
              "        vertical-align: middle;\n",
              "    }\n",
              "\n",
              "    .dataframe tbody tr th {\n",
              "        vertical-align: top;\n",
              "    }\n",
              "\n",
              "    .dataframe thead th {\n",
              "        text-align: right;\n",
              "    }\n",
              "</style>\n",
              "<table border=\"1\" class=\"dataframe\">\n",
              "  <thead>\n",
              "    <tr style=\"text-align: right;\">\n",
              "      <th></th>\n",
              "      <th>Text</th>\n",
              "      <th>sentiment</th>\n",
              "    </tr>\n",
              "  </thead>\n",
              "  <tbody>\n",
              "    <tr>\n",
              "      <th>0</th>\n",
              "      <td>फिल्म देखने के बाद न सिर्फ उम्मीदें धराशायी हु...</td>\n",
              "      <td>negative</td>\n",
              "    </tr>\n",
              "    <tr>\n",
              "      <th>1</th>\n",
              "      <td>$उनके अभिनय में इंटेसिंटी तो है लेकिन किरदार स...</td>\n",
              "      <td>negative</td>\n",
              "    </tr>\n",
              "    <tr>\n",
              "      <th>2</th>\n",
              "      <td>$एली अबराम को फिल्म में महज ग्लैमर ऐड करने के ...</td>\n",
              "      <td>negative</td>\n",
              "    </tr>\n",
              "    <tr>\n",
              "      <th>3</th>\n",
              "      <td>$ बाकी के भी किरदार अति सामान्य हैं</td>\n",
              "      <td>negative</td>\n",
              "    </tr>\n",
              "    <tr>\n",
              "      <th>4</th>\n",
              "      <td>$ तकनीकी गुणवत्ता की भी कमियां दिख सकती हैं</td>\n",
              "      <td>negative</td>\n",
              "    </tr>\n",
              "  </tbody>\n",
              "</table>\n",
              "</div>"
            ],
            "text/plain": [
              "                                                Text sentiment\n",
              "0  फिल्म देखने के बाद न सिर्फ उम्मीदें धराशायी हु...  negative\n",
              "1  $उनके अभिनय में इंटेसिंटी तो है लेकिन किरदार स...  negative\n",
              "2  $एली अबराम को फिल्म में महज ग्लैमर ऐड करने के ...  negative\n",
              "3                $ बाकी के भी किरदार अति सामान्य हैं  negative\n",
              "4        $ तकनीकी गुणवत्ता की भी कमियां दिख सकती हैं  negative"
            ]
          },
          "metadata": {
            "tags": []
          },
          "execution_count": 10
        }
      ]
    },
    {
      "cell_type": "code",
      "metadata": {
        "id": "Fs1RVEkJ-a9-",
        "colab_type": "code",
        "colab": {}
      },
      "source": [
        "df = pd.concat([df_pos, df_neg])"
      ],
      "execution_count": null,
      "outputs": []
    },
    {
      "cell_type": "code",
      "metadata": {
        "id": "l-6jJbgG-0DZ",
        "colab_type": "code",
        "colab": {
          "base_uri": "https://localhost:8080/",
          "height": 419
        },
        "outputId": "6029848f-0351-4a07-b088-770c06f62514"
      },
      "source": [
        "df"
      ],
      "execution_count": null,
      "outputs": [
        {
          "output_type": "execute_result",
          "data": {
            "text/html": [
              "<div>\n",
              "<style scoped>\n",
              "    .dataframe tbody tr th:only-of-type {\n",
              "        vertical-align: middle;\n",
              "    }\n",
              "\n",
              "    .dataframe tbody tr th {\n",
              "        vertical-align: top;\n",
              "    }\n",
              "\n",
              "    .dataframe thead th {\n",
              "        text-align: right;\n",
              "    }\n",
              "</style>\n",
              "<table border=\"1\" class=\"dataframe\">\n",
              "  <thead>\n",
              "    <tr style=\"text-align: right;\">\n",
              "      <th></th>\n",
              "      <th>Text</th>\n",
              "      <th>sentiment</th>\n",
              "    </tr>\n",
              "  </thead>\n",
              "  <tbody>\n",
              "    <tr>\n",
              "      <th>0</th>\n",
              "      <td>मिकी वाइरस पूरी तरह से मनीष पॉल की फिल्म है और...</td>\n",
              "      <td>postive</td>\n",
              "    </tr>\n",
              "    <tr>\n",
              "      <th>1</th>\n",
              "      <td>$मनीष ने अपने किरकार को बखूबी निभाया है</td>\n",
              "      <td>postive</td>\n",
              "    </tr>\n",
              "    <tr>\n",
              "      <th>2</th>\n",
              "      <td>$वे हर भाव के दृश्यों में नैचुरल लगते हैं</td>\n",
              "      <td>postive</td>\n",
              "    </tr>\n",
              "    <tr>\n",
              "      <th>3</th>\n",
              "      <td>$फिल्म की कास्टिंग जबरदस्त है</td>\n",
              "      <td>postive</td>\n",
              "    </tr>\n",
              "    <tr>\n",
              "      <th>4</th>\n",
              "      <td>$ फिल्म के कोर्ट रूम सीन रियल हैं</td>\n",
              "      <td>postive</td>\n",
              "    </tr>\n",
              "    <tr>\n",
              "      <th>...</th>\n",
              "      <td>...</td>\n",
              "      <td>...</td>\n",
              "    </tr>\n",
              "    <tr>\n",
              "      <th>399</th>\n",
              "      <td>$ डीनो फिल्म में विलेन बनकर रह गए</td>\n",
              "      <td>negative</td>\n",
              "    </tr>\n",
              "    <tr>\n",
              "      <th>400</th>\n",
              "      <td>$ इंटरवल के बाद फिल्म उलझ जाती है।</td>\n",
              "      <td>negative</td>\n",
              "    </tr>\n",
              "    <tr>\n",
              "      <th>401</th>\n",
              "      <td>$मैं गलियों से निकलता हूं फिर भी फंस जाता हूं।</td>\n",
              "      <td>negative</td>\n",
              "    </tr>\n",
              "    <tr>\n",
              "      <th>402</th>\n",
              "      <td>$क्लाइमेक्स भी बेवजह खींचा गया महसूस होता है।</td>\n",
              "      <td>negative</td>\n",
              "    </tr>\n",
              "    <tr>\n",
              "      <th>403</th>\n",
              "      <td>$</td>\n",
              "      <td>negative</td>\n",
              "    </tr>\n",
              "  </tbody>\n",
              "</table>\n",
              "<p>853 rows × 2 columns</p>\n",
              "</div>"
            ],
            "text/plain": [
              "                                                  Text sentiment\n",
              "0    मिकी वाइरस पूरी तरह से मनीष पॉल की फिल्म है और...   postive\n",
              "1              $मनीष ने अपने किरकार को बखूबी निभाया है   postive\n",
              "2            $वे हर भाव के दृश्यों में नैचुरल लगते हैं   postive\n",
              "3                        $फिल्म की कास्टिंग जबरदस्त है   postive\n",
              "4                    $ फिल्म के कोर्ट रूम सीन रियल हैं   postive\n",
              "..                                                 ...       ...\n",
              "399                  $ डीनो फिल्म में विलेन बनकर रह गए  negative\n",
              "400                $ इंटरवल के बाद फिल्म उलझ जाती है।   negative\n",
              "401     $मैं गलियों से निकलता हूं फिर भी फंस जाता हूं।  negative\n",
              "402     $क्लाइमेक्स भी बेवजह खींचा गया महसूस होता है।   negative\n",
              "403                                                  $  negative\n",
              "\n",
              "[853 rows x 2 columns]"
            ]
          },
          "metadata": {
            "tags": []
          },
          "execution_count": 12
        }
      ]
    },
    {
      "cell_type": "code",
      "metadata": {
        "id": "aWR44vj8-0Ev",
        "colab_type": "code",
        "colab": {}
      },
      "source": [
        "from sklearn.utils import shuffle\n",
        "df = shuffle(df)"
      ],
      "execution_count": null,
      "outputs": []
    },
    {
      "cell_type": "code",
      "metadata": {
        "id": "0Wcp1BDT-0Ii",
        "colab_type": "code",
        "colab": {}
      },
      "source": [
        "df.index = range(0,len(df))"
      ],
      "execution_count": null,
      "outputs": []
    },
    {
      "cell_type": "code",
      "metadata": {
        "id": "9jpTz7fRf56t",
        "colab_type": "code",
        "colab": {}
      },
      "source": [
        "import pandas as pd\n",
        "df = pd.read_excel('/content/sample_data/testing_data.xlsx')"
      ],
      "execution_count": null,
      "outputs": []
    },
    {
      "cell_type": "code",
      "metadata": {
        "id": "_uZAqEDh-0LV",
        "colab_type": "code",
        "colab": {}
      },
      "source": [
        "df['Text'] = df['Text'].str[1:]"
      ],
      "execution_count": null,
      "outputs": []
    },
    {
      "cell_type": "code",
      "metadata": {
        "id": "oNmtz2Pv-0OI",
        "colab_type": "code",
        "colab": {}
      },
      "source": [
        "# remove punctuation\n",
        "import string\n",
        "df['Text'] = df['Text'].str.replace('[{}]'.format(string.punctuation), '')"
      ],
      "execution_count": null,
      "outputs": []
    },
    {
      "cell_type": "code",
      "metadata": {
        "id": "QfDVMb6urwYK",
        "colab_type": "code",
        "colab": {
          "base_uri": "https://localhost:8080/",
          "height": 187
        },
        "outputId": "8d2a93de-db82-4e3d-d3dd-d73979d671d2"
      },
      "source": [
        "import nltk\n",
        "nltk.download('stopwords')\n",
        "nltk.download('punkt')\n",
        "nltk.download('wordnet')\n",
        "nltk.download('averaged_perceptron_tagger')"
      ],
      "execution_count": null,
      "outputs": [
        {
          "output_type": "stream",
          "text": [
            "[nltk_data] Downloading package stopwords to /root/nltk_data...\n",
            "[nltk_data]   Unzipping corpora/stopwords.zip.\n",
            "[nltk_data] Downloading package punkt to /root/nltk_data...\n",
            "[nltk_data]   Unzipping tokenizers/punkt.zip.\n",
            "[nltk_data] Downloading package wordnet to /root/nltk_data...\n",
            "[nltk_data]   Unzipping corpora/wordnet.zip.\n",
            "[nltk_data] Downloading package averaged_perceptron_tagger to\n",
            "[nltk_data]     /root/nltk_data...\n",
            "[nltk_data]   Unzipping taggers/averaged_perceptron_tagger.zip.\n"
          ],
          "name": "stdout"
        },
        {
          "output_type": "execute_result",
          "data": {
            "text/plain": [
              "True"
            ]
          },
          "metadata": {
            "tags": []
          },
          "execution_count": 4
        }
      ]
    },
    {
      "cell_type": "code",
      "metadata": {
        "id": "eaOxKWBQr1Ti",
        "colab_type": "code",
        "colab": {}
      },
      "source": [
        "from nltk.corpus import stopwords\n",
        "\n",
        "stop = stopwords.words('hindi')\n",
        "#df['review'] = df['review'].apply(lambda x: [item for item in x if item not in stop])"
      ],
      "execution_count": null,
      "outputs": []
    },
    {
      "cell_type": "code",
      "metadata": {
        "id": "3fpiFvqnpZv0",
        "colab_type": "code",
        "colab": {}
      },
      "source": [
        "import pandas as pd\n",
        "df = pd.read_excel('/content/sample_data/testing_data.xlsx')"
      ],
      "execution_count": null,
      "outputs": []
    },
    {
      "cell_type": "code",
      "metadata": {
        "id": "Zg7a5w5arIV7",
        "colab_type": "code",
        "colab": {
          "base_uri": "https://localhost:8080/",
          "height": 204
        },
        "outputId": "5912b098-10ce-4b57-c4bf-3a5fe1df3d18"
      },
      "source": [
        "df.head()"
      ],
      "execution_count": null,
      "outputs": [
        {
          "output_type": "execute_result",
          "data": {
            "text/html": [
              "<div>\n",
              "<style scoped>\n",
              "    .dataframe tbody tr th:only-of-type {\n",
              "        vertical-align: middle;\n",
              "    }\n",
              "\n",
              "    .dataframe tbody tr th {\n",
              "        vertical-align: top;\n",
              "    }\n",
              "\n",
              "    .dataframe thead th {\n",
              "        text-align: right;\n",
              "    }\n",
              "</style>\n",
              "<table border=\"1\" class=\"dataframe\">\n",
              "  <thead>\n",
              "    <tr style=\"text-align: right;\">\n",
              "      <th></th>\n",
              "      <th>Unnamed: 0</th>\n",
              "      <th>Text</th>\n",
              "      <th>sentiment</th>\n",
              "    </tr>\n",
              "  </thead>\n",
              "  <tbody>\n",
              "    <tr>\n",
              "      <th>0</th>\n",
              "      <td>0</td>\n",
              "      <td>इसी मुद्दे पर फ़िल्म बनाने का प्रयास सराहा जाना...</td>\n",
              "      <td>postive</td>\n",
              "    </tr>\n",
              "    <tr>\n",
              "      <th>1</th>\n",
              "      <td>1</td>\n",
              "      <td>उनकी भावभंगिमाओं में अनोखापन है</td>\n",
              "      <td>postive</td>\n",
              "    </tr>\n",
              "    <tr>\n",
              "      <th>2</th>\n",
              "      <td>2</td>\n",
              "      <td>जॉन अब्राहम एक्शन दृश्यों में यों भी अच्छे और ...</td>\n",
              "      <td>postive</td>\n",
              "    </tr>\n",
              "    <tr>\n",
              "      <th>3</th>\n",
              "      <td>3</td>\n",
              "      <td>दोस्तों को नायक की मौत पर कहानी का अंत एक त्रा...</td>\n",
              "      <td>negative</td>\n",
              "    </tr>\n",
              "    <tr>\n",
              "      <th>4</th>\n",
              "      <td>4</td>\n",
              "      <td>कहानी बड़ी होशियारी से अपनी अपील को बच्चों के ...</td>\n",
              "      <td>postive</td>\n",
              "    </tr>\n",
              "  </tbody>\n",
              "</table>\n",
              "</div>"
            ],
            "text/plain": [
              "   Unnamed: 0                                               Text sentiment\n",
              "0           0  इसी मुद्दे पर फ़िल्म बनाने का प्रयास सराहा जाना...   postive\n",
              "1           1                    उनकी भावभंगिमाओं में अनोखापन है   postive\n",
              "2           2  जॉन अब्राहम एक्शन दृश्यों में यों भी अच्छे और ...   postive\n",
              "3           3  दोस्तों को नायक की मौत पर कहानी का अंत एक त्रा...  negative\n",
              "4           4  कहानी बड़ी होशियारी से अपनी अपील को बच्चों के ...   postive"
            ]
          },
          "metadata": {
            "tags": []
          },
          "execution_count": 5
        }
      ]
    },
    {
      "cell_type": "code",
      "metadata": {
        "id": "mz3oxA0U-0Q1",
        "colab_type": "code",
        "colab": {}
      },
      "source": [
        "df.to_excel(\"testing_data.xlsx\")"
      ],
      "execution_count": null,
      "outputs": []
    }
  ]
}